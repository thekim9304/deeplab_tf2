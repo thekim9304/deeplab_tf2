{
 "cells": [
  {
   "cell_type": "code",
   "execution_count": 13,
   "metadata": {},
   "outputs": [
    {
     "name": "stdout",
     "output_type": "stream",
     "text": [
      "Found 200 images belonging to 1 classes.\n",
      "Found 200 images belonging to 1 classes.\n",
      "Epochs 0\n",
      "(32, 256, 256, 3) (32, 256, 256, 3)\n",
      "(32, 256, 256, 3) (32, 256, 256, 3)\n",
      "(32, 256, 256, 3) (32, 256, 256, 3)\n",
      "(32, 256, 256, 3) (32, 256, 256, 3)\n",
      "(32, 256, 256, 3) (32, 256, 256, 3)\n",
      "(32, 256, 256, 3) (32, 256, 256, 3)\n",
      "(8, 256, 256, 3) (8, 256, 256, 3)\n",
      "Epochs 1\n",
      "(32, 256, 256, 3) (32, 256, 256, 3)\n",
      "(32, 256, 256, 3) (32, 256, 256, 3)\n",
      "(32, 256, 256, 3) (32, 256, 256, 3)\n",
      "(32, 256, 256, 3) (32, 256, 256, 3)\n",
      "(32, 256, 256, 3) (32, 256, 256, 3)\n",
      "(32, 256, 256, 3) (32, 256, 256, 3)\n",
      "(8, 256, 256, 3) (8, 256, 256, 3)\n",
      "Epochs 2\n",
      "(32, 256, 256, 3) (32, 256, 256, 3)\n",
      "(32, 256, 256, 3) (32, 256, 256, 3)\n",
      "(32, 256, 256, 3) (32, 256, 256, 3)\n",
      "(32, 256, 256, 3) (32, 256, 256, 3)\n",
      "(32, 256, 256, 3) (32, 256, 256, 3)\n",
      "(32, 256, 256, 3) (32, 256, 256, 3)\n",
      "(8, 256, 256, 3) (8, 256, 256, 3)\n",
      "Epochs 3\n",
      "(32, 256, 256, 3) (32, 256, 256, 3)\n",
      "(32, 256, 256, 3) (32, 256, 256, 3)\n",
      "(32, 256, 256, 3) (32, 256, 256, 3)\n",
      "(32, 256, 256, 3) (32, 256, 256, 3)\n",
      "(32, 256, 256, 3) (32, 256, 256, 3)\n",
      "(32, 256, 256, 3) (32, 256, 256, 3)\n",
      "(8, 256, 256, 3) (8, 256, 256, 3)\n",
      "Epochs 4\n",
      "(32, 256, 256, 3) (32, 256, 256, 3)\n",
      "(32, 256, 256, 3) (32, 256, 256, 3)\n",
      "(32, 256, 256, 3) (32, 256, 256, 3)\n",
      "(32, 256, 256, 3) (32, 256, 256, 3)\n",
      "(32, 256, 256, 3) (32, 256, 256, 3)\n",
      "(32, 256, 256, 3) (32, 256, 256, 3)\n",
      "(8, 256, 256, 3) (8, 256, 256, 3)\n",
      "Epochs 5\n",
      "(32, 256, 256, 3) (32, 256, 256, 3)\n",
      "(32, 256, 256, 3) (32, 256, 256, 3)\n",
      "(32, 256, 256, 3) (32, 256, 256, 3)\n",
      "(32, 256, 256, 3) (32, 256, 256, 3)\n",
      "(32, 256, 256, 3) (32, 256, 256, 3)\n",
      "(32, 256, 256, 3) (32, 256, 256, 3)\n",
      "(8, 256, 256, 3) (8, 256, 256, 3)\n",
      "Epochs 6\n",
      "(32, 256, 256, 3) (32, 256, 256, 3)\n",
      "(32, 256, 256, 3) (32, 256, 256, 3)\n",
      "(32, 256, 256, 3) (32, 256, 256, 3)\n",
      "(32, 256, 256, 3) (32, 256, 256, 3)\n",
      "(32, 256, 256, 3) (32, 256, 256, 3)\n",
      "(32, 256, 256, 3) (32, 256, 256, 3)\n",
      "(8, 256, 256, 3) (8, 256, 256, 3)\n",
      "Epochs 7\n",
      "(32, 256, 256, 3) (32, 256, 256, 3)\n",
      "(32, 256, 256, 3) (32, 256, 256, 3)\n",
      "(32, 256, 256, 3) (32, 256, 256, 3)\n",
      "(32, 256, 256, 3) (32, 256, 256, 3)\n",
      "(32, 256, 256, 3) (32, 256, 256, 3)\n",
      "(32, 256, 256, 3) (32, 256, 256, 3)\n",
      "(8, 256, 256, 3) (8, 256, 256, 3)\n",
      "Epochs 8\n",
      "(32, 256, 256, 3) (32, 256, 256, 3)\n",
      "(32, 256, 256, 3) (32, 256, 256, 3)\n",
      "(32, 256, 256, 3) (32, 256, 256, 3)\n",
      "(32, 256, 256, 3) (32, 256, 256, 3)\n",
      "(32, 256, 256, 3) (32, 256, 256, 3)\n",
      "(32, 256, 256, 3) (32, 256, 256, 3)\n",
      "(8, 256, 256, 3) (8, 256, 256, 3)\n",
      "Epochs 9\n",
      "(32, 256, 256, 3) (32, 256, 256, 3)\n",
      "(32, 256, 256, 3) (32, 256, 256, 3)\n",
      "(32, 256, 256, 3) (32, 256, 256, 3)\n",
      "(32, 256, 256, 3) (32, 256, 256, 3)\n",
      "(32, 256, 256, 3) (32, 256, 256, 3)\n",
      "(32, 256, 256, 3) (32, 256, 256, 3)\n",
      "(8, 256, 256, 3) (8, 256, 256, 3)\n"
     ]
    }
   ],
   "source": [
    "import tensorflow as tf\n",
    "from tensorflow.keras.preprocessing.image import ImageDataGenerator\n",
    "\n",
    "import numpy as np\n",
    "\n",
    "data_gen_args = dict(featurewise_center=True,\n",
    "                     featurewise_std_normalization=True,\n",
    "                     rotation_range=90,\n",
    "                     width_shift_range=0.1,\n",
    "                     height_shift_range=0.1,\n",
    "                     zoom_range=0.2)\n",
    "\n",
    "seed = 1\n",
    "image_datagen = ImageDataGenerator(**data_gen_args)\n",
    "mask_datagen = ImageDataGenerator(**data_gen_args)\n",
    "\n",
    "image_generator = image_datagen.flow_from_directory(\n",
    "    'example/segmentation/image',\n",
    "    class_mode=None,\n",
    "    seed=seed)\n",
    "\n",
    "mask_generator = mask_datagen.flow_from_directory(\n",
    "    'example/segmentation/mask',\n",
    "    class_mode=None,\n",
    "    seed=seed)\n",
    "\n",
    "# case 1 \n",
    "# train_generator = zip(image_generator, mask_generator)\n",
    "# model.fit_generator(train_generator,\n",
    "#                    step_per_epoch=image_generator.samples // batch_size,\n",
    "#                    epochs=50)\n",
    "\n",
    "# case 2\n",
    "epochs = 10\n",
    "for epoch in range(epochs):\n",
    "    print('Epochs', epoch)\n",
    "\n",
    "    for batchb in range(len(image_generator)):\n",
    "        image, label = next(image_generator), next(mask_generator)\n",
    "        print(image.shape, label.shape)\n"
   ]
  },
  {
   "cell_type": "code",
   "execution_count": 8,
   "metadata": {},
   "outputs": [
    {
     "data": {
      "text/plain": [
       "7"
      ]
     },
     "execution_count": 8,
     "metadata": {},
     "output_type": "execute_result"
    }
   ],
   "source": [
    "len(image_generator)"
   ]
  },
  {
   "cell_type": "code",
   "execution_count": 6,
   "metadata": {},
   "outputs": [
    {
     "data": {
      "text/plain": [
       "numpy.ndarray"
      ]
     },
     "execution_count": 6,
     "metadata": {},
     "output_type": "execute_result"
    }
   ],
   "source": [
    "type(next(image_generator))"
   ]
  },
  {
   "cell_type": "code",
   "execution_count": null,
   "metadata": {},
   "outputs": [],
   "source": []
  }
 ],
 "metadata": {
  "kernelspec": {
   "display_name": "tf2.0",
   "language": "python",
   "name": "tf2.0"
  },
  "language_info": {
   "codemirror_mode": {
    "name": "ipython",
    "version": 3
   },
   "file_extension": ".py",
   "mimetype": "text/x-python",
   "name": "python",
   "nbconvert_exporter": "python",
   "pygments_lexer": "ipython3",
   "version": "3.5.6"
  }
 },
 "nbformat": 4,
 "nbformat_minor": 2
}
